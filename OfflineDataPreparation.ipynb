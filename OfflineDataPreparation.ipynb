{
 "cells": [
  {
   "cell_type": "code",
   "execution_count": 1,
   "metadata": {
    "collapsed": true
   },
   "outputs": [],
   "source": [
    "import pandas as pd\n",
    "import numpy as np"
   ]
  },
  {
   "cell_type": "code",
   "execution_count": null,
   "metadata": {
    "collapsed": true
   },
   "outputs": [],
   "source": [
    "df = pd.read_csv(\"data/serialTexts.csv\", sep=\";\", header=0)\n",
    "df.shape"
   ]
  },
  {
   "cell_type": "code",
   "execution_count": null,
   "metadata": {
    "collapsed": true
   },
   "outputs": [],
   "source": [
    "df.drop_duplicates(subset=\"id_serial\", inplace=True)\n",
    "df.shape\n"
   ]
  },
  {
   "cell_type": "code",
   "execution_count": null,
   "metadata": {
    "collapsed": true
   },
   "outputs": [],
   "source": [
    "df.to_csv(\"data/serialTexts.txt\", header=True, index=False, sep=\";\")"
   ]
  },
  {
   "cell_type": "code",
   "execution_count": null,
   "metadata": {
    "collapsed": true
   },
   "outputs": [],
   "source": [
    "df = pd.read_csv(\"data/serialTexts.txt\", sep=\";\", header=0, index_col=0)\n",
    "df.shape"
   ]
  },
  {
   "cell_type": "code",
   "execution_count": null,
   "metadata": {
    "collapsed": true
   },
   "outputs": [],
   "source": [
    "df.fillna('', inplace=True)"
   ]
  },
  {
   "cell_type": "code",
   "execution_count": null,
   "metadata": {
    "collapsed": true
   },
   "outputs": [],
   "source": [
    "df = df+\" \""
   ]
  },
  {
   "cell_type": "code",
   "execution_count": null,
   "metadata": {
    "collapsed": true
   },
   "outputs": [],
   "source": [
    "df['mergedText'] = df.fillna('').sum(axis=1)\n",
    "df[['mergedText']].head()\n"
   ]
  },
  {
   "cell_type": "code",
   "execution_count": null,
   "metadata": {
    "collapsed": true
   },
   "outputs": [],
   "source": [
    "df['mergedText'] = df['mergedText'].str.replace('<[^<]+?>', '')\n",
    "df['mergedText'] = df['mergedText'].str.replace('&nbsp;', ' ')"
   ]
  },
  {
   "cell_type": "code",
   "execution_count": null,
   "metadata": {
    "collapsed": true
   },
   "outputs": [],
   "source": [
    "df[['mergedText']].to_csv(\"data/slantour_data.txt\", header=False, index=False)"
   ]
  },
  {
   "cell_type": "code",
   "execution_count": 2,
   "metadata": {},
   "outputs": [
    {
     "data": {
      "text/html": [
       "<div>\n",
       "<style scoped>\n",
       "    .dataframe tbody tr th:only-of-type {\n",
       "        vertical-align: middle;\n",
       "    }\n",
       "\n",
       "    .dataframe tbody tr th {\n",
       "        vertical-align: top;\n",
       "    }\n",
       "\n",
       "    .dataframe thead th {\n",
       "        text-align: right;\n",
       "    }\n",
       "</style>\n",
       "<table border=\"1\" class=\"dataframe\">\n",
       "  <thead>\n",
       "    <tr style=\"text-align: right;\">\n",
       "      <th></th>\n",
       "      <th>objectID</th>\n",
       "      <th>lastModified</th>\n",
       "    </tr>\n",
       "    <tr>\n",
       "      <th>userID</th>\n",
       "      <th></th>\n",
       "      <th></th>\n",
       "    </tr>\n",
       "  </thead>\n",
       "  <tbody>\n",
       "    <tr>\n",
       "      <th>186543</th>\n",
       "      <td>4927</td>\n",
       "      <td>2016-06-05 08:32:31</td>\n",
       "    </tr>\n",
       "    <tr>\n",
       "      <th>531244</th>\n",
       "      <td>4805</td>\n",
       "      <td>2016-01-19 12:06:10</td>\n",
       "    </tr>\n",
       "    <tr>\n",
       "      <th>531244</th>\n",
       "      <td>3</td>\n",
       "      <td>2016-06-23 11:42:13</td>\n",
       "    </tr>\n",
       "    <tr>\n",
       "      <th>531244</th>\n",
       "      <td>2155</td>\n",
       "      <td>2016-06-23 11:44:32</td>\n",
       "    </tr>\n",
       "    <tr>\n",
       "      <th>531244</th>\n",
       "      <td>4728</td>\n",
       "      <td>2016-07-26 07:18:13</td>\n",
       "    </tr>\n",
       "  </tbody>\n",
       "</table>\n",
       "</div>"
      ],
      "text/plain": [
       "        objectID         lastModified\n",
       "userID                               \n",
       "186543      4927  2016-06-05 08:32:31\n",
       "531244      4805  2016-01-19 12:06:10\n",
       "531244         3  2016-06-23 11:42:13\n",
       "531244      2155  2016-06-23 11:44:32\n",
       "531244      4728  2016-07-26 07:18:13"
      ]
     },
     "execution_count": 2,
     "metadata": {},
     "output_type": "execute_result"
    }
   ],
   "source": [
    "df2 = pd.read_csv(\"data/userEvents.csv\", sep=\";\", header=0, index_col=0)\n",
    "df2.head()"
   ]
  },
  {
   "cell_type": "code",
   "execution_count": 3,
   "metadata": {
    "collapsed": true
   },
   "outputs": [],
   "source": [
    "df2.lastModified = pd.to_datetime(df2.lastModified,infer_datetime_format=True)\n",
    "dfGB = df2.groupby(df2.index)"
   ]
  },
  {
   "cell_type": "code",
   "execution_count": 4,
   "metadata": {},
   "outputs": [
    {
     "data": {
      "text/html": [
       "<div>\n",
       "<style scoped>\n",
       "    .dataframe tbody tr th:only-of-type {\n",
       "        vertical-align: middle;\n",
       "    }\n",
       "\n",
       "    .dataframe tbody tr th {\n",
       "        vertical-align: top;\n",
       "    }\n",
       "\n",
       "    .dataframe thead th {\n",
       "        text-align: right;\n",
       "    }\n",
       "</style>\n",
       "<table border=\"1\" class=\"dataframe\">\n",
       "  <thead>\n",
       "    <tr style=\"text-align: right;\">\n",
       "      <th></th>\n",
       "      <th>count</th>\n",
       "      <th>max</th>\n",
       "      <th>min</th>\n",
       "    </tr>\n",
       "    <tr>\n",
       "      <th>userID</th>\n",
       "      <th></th>\n",
       "      <th></th>\n",
       "      <th></th>\n",
       "    </tr>\n",
       "  </thead>\n",
       "  <tbody>\n",
       "    <tr>\n",
       "      <th>186543</th>\n",
       "      <td>1</td>\n",
       "      <td>2016-06-05 08:32:31</td>\n",
       "      <td>2016-06-05 08:32:31</td>\n",
       "    </tr>\n",
       "    <tr>\n",
       "      <th>531244</th>\n",
       "      <td>35</td>\n",
       "      <td>2018-01-29 16:36:31</td>\n",
       "      <td>2016-01-19 12:06:10</td>\n",
       "    </tr>\n",
       "    <tr>\n",
       "      <th>588117</th>\n",
       "      <td>56</td>\n",
       "      <td>2018-05-21 11:45:05</td>\n",
       "      <td>2016-04-15 09:42:17</td>\n",
       "    </tr>\n",
       "    <tr>\n",
       "      <th>596178</th>\n",
       "      <td>55</td>\n",
       "      <td>2017-06-06 14:56:17</td>\n",
       "      <td>2016-01-04 16:37:41</td>\n",
       "    </tr>\n",
       "    <tr>\n",
       "      <th>672696</th>\n",
       "      <td>10</td>\n",
       "      <td>2017-05-06 08:27:27</td>\n",
       "      <td>2016-02-15 17:04:57</td>\n",
       "    </tr>\n",
       "  </tbody>\n",
       "</table>\n",
       "</div>"
      ],
      "text/plain": [
       "        count                 max                 min\n",
       "userID                                               \n",
       "186543      1 2016-06-05 08:32:31 2016-06-05 08:32:31\n",
       "531244     35 2018-01-29 16:36:31 2016-01-19 12:06:10\n",
       "588117     56 2018-05-21 11:45:05 2016-04-15 09:42:17\n",
       "596178     55 2017-06-06 14:56:17 2016-01-04 16:37:41\n",
       "672696     10 2017-05-06 08:27:27 2016-02-15 17:04:57"
      ]
     },
     "execution_count": 4,
     "metadata": {},
     "output_type": "execute_result"
    }
   ],
   "source": [
    "dfCount = dfGB[\"lastModified\"].agg(['count', 'max', 'min'])\n",
    "dfCount.head()"
   ]
  },
  {
   "cell_type": "code",
   "execution_count": 5,
   "metadata": {},
   "outputs": [
    {
     "data": {
      "text/plain": [
       "array([ 531244,  588117,  596178, ..., 2666022, 2666023, 2666061],\n",
       "      dtype=int64)"
      ]
     },
     "execution_count": 5,
     "metadata": {},
     "output_type": "execute_result"
    }
   ],
   "source": [
    "validUsers = dfCount.loc[(dfCount[\"count\"] > 1) & (dfCount[\"count\"] <= 150)].index.values\n",
    "validUsers"
   ]
  },
  {
   "cell_type": "code",
   "execution_count": 6,
   "metadata": {},
   "outputs": [
    {
     "data": {
      "text/html": [
       "<div>\n",
       "<style scoped>\n",
       "    .dataframe tbody tr th:only-of-type {\n",
       "        vertical-align: middle;\n",
       "    }\n",
       "\n",
       "    .dataframe tbody tr th {\n",
       "        vertical-align: top;\n",
       "    }\n",
       "\n",
       "    .dataframe thead th {\n",
       "        text-align: right;\n",
       "    }\n",
       "</style>\n",
       "<table border=\"1\" class=\"dataframe\">\n",
       "  <thead>\n",
       "    <tr style=\"text-align: right;\">\n",
       "      <th></th>\n",
       "      <th>objectID</th>\n",
       "    </tr>\n",
       "  </thead>\n",
       "  <tbody>\n",
       "    <tr>\n",
       "      <th>count</th>\n",
       "      <td>250368.000000</td>\n",
       "    </tr>\n",
       "    <tr>\n",
       "      <th>mean</th>\n",
       "      <td>3417.218862</td>\n",
       "    </tr>\n",
       "    <tr>\n",
       "      <th>std</th>\n",
       "      <td>1979.787939</td>\n",
       "    </tr>\n",
       "    <tr>\n",
       "      <th>min</th>\n",
       "      <td>1.000000</td>\n",
       "    </tr>\n",
       "    <tr>\n",
       "      <th>25%</th>\n",
       "      <td>1456.000000</td>\n",
       "    </tr>\n",
       "    <tr>\n",
       "      <th>50%</th>\n",
       "      <td>4102.000000</td>\n",
       "    </tr>\n",
       "    <tr>\n",
       "      <th>75%</th>\n",
       "      <td>5065.000000</td>\n",
       "    </tr>\n",
       "    <tr>\n",
       "      <th>max</th>\n",
       "      <td>6243.000000</td>\n",
       "    </tr>\n",
       "  </tbody>\n",
       "</table>\n",
       "</div>"
      ],
      "text/plain": [
       "            objectID\n",
       "count  250368.000000\n",
       "mean     3417.218862\n",
       "std      1979.787939\n",
       "min         1.000000\n",
       "25%      1456.000000\n",
       "50%      4102.000000\n",
       "75%      5065.000000\n",
       "max      6243.000000"
      ]
     },
     "execution_count": 6,
     "metadata": {},
     "output_type": "execute_result"
    }
   ],
   "source": [
    "df2Filtered = df2.loc[df2.index.isin(validUsers)]\n",
    "df2Filtered.describe()"
   ]
  },
  {
   "cell_type": "code",
   "execution_count": 7,
   "metadata": {},
   "outputs": [
    {
     "name": "stderr",
     "output_type": "stream",
     "text": [
      "C:\\Users\\peska\\Anaconda3\\lib\\site-packages\\ipykernel\\__main__.py:1: SettingWithCopyWarning: \n",
      "A value is trying to be set on a copy of a slice from a DataFrame.\n",
      "Try using .loc[row_indexer,col_indexer] = value instead\n",
      "\n",
      "See the caveats in the documentation: http://pandas.pydata.org/pandas-docs/stable/indexing.html#indexing-view-versus-copy\n",
      "  if __name__ == '__main__':\n"
     ]
    }
   ],
   "source": [
    "df2Filtered[\"strOID\"] = df2Filtered.objectID.astype('str')"
   ]
  },
  {
   "cell_type": "code",
   "execution_count": 8,
   "metadata": {},
   "outputs": [
    {
     "data": {
      "text/html": [
       "<div>\n",
       "<style scoped>\n",
       "    .dataframe tbody tr th:only-of-type {\n",
       "        vertical-align: middle;\n",
       "    }\n",
       "\n",
       "    .dataframe tbody tr th {\n",
       "        vertical-align: top;\n",
       "    }\n",
       "\n",
       "    .dataframe thead th {\n",
       "        text-align: right;\n",
       "    }\n",
       "</style>\n",
       "<table border=\"1\" class=\"dataframe\">\n",
       "  <thead>\n",
       "    <tr style=\"text-align: right;\">\n",
       "      <th></th>\n",
       "      <th>objectID</th>\n",
       "      <th>lastModified</th>\n",
       "      <th>strOID</th>\n",
       "    </tr>\n",
       "    <tr>\n",
       "      <th>userID</th>\n",
       "      <th></th>\n",
       "      <th></th>\n",
       "      <th></th>\n",
       "    </tr>\n",
       "  </thead>\n",
       "  <tbody>\n",
       "    <tr>\n",
       "      <th>531244</th>\n",
       "      <td>4805</td>\n",
       "      <td>2016-01-19 12:06:10</td>\n",
       "      <td>4805</td>\n",
       "    </tr>\n",
       "    <tr>\n",
       "      <th>531244</th>\n",
       "      <td>3</td>\n",
       "      <td>2016-06-23 11:42:13</td>\n",
       "      <td>3</td>\n",
       "    </tr>\n",
       "    <tr>\n",
       "      <th>531244</th>\n",
       "      <td>2155</td>\n",
       "      <td>2016-06-23 11:44:32</td>\n",
       "      <td>2155</td>\n",
       "    </tr>\n",
       "    <tr>\n",
       "      <th>531244</th>\n",
       "      <td>4728</td>\n",
       "      <td>2016-07-26 07:18:13</td>\n",
       "      <td>4728</td>\n",
       "    </tr>\n",
       "    <tr>\n",
       "      <th>531244</th>\n",
       "      <td>160</td>\n",
       "      <td>2016-07-26 07:23:01</td>\n",
       "      <td>160</td>\n",
       "    </tr>\n",
       "  </tbody>\n",
       "</table>\n",
       "</div>"
      ],
      "text/plain": [
       "        objectID        lastModified strOID\n",
       "userID                                     \n",
       "531244      4805 2016-01-19 12:06:10   4805\n",
       "531244         3 2016-06-23 11:42:13      3\n",
       "531244      2155 2016-06-23 11:44:32   2155\n",
       "531244      4728 2016-07-26 07:18:13   4728\n",
       "531244       160 2016-07-26 07:23:01    160"
      ]
     },
     "execution_count": 8,
     "metadata": {},
     "output_type": "execute_result"
    }
   ],
   "source": [
    "df2Filtered.head()"
   ]
  },
  {
   "cell_type": "code",
   "execution_count": 9,
   "metadata": {},
   "outputs": [
    {
     "data": {
      "text/plain": [
       "userID\n",
       "531244    4805 3 2155 4728 160 4802 4687 4891 5088 98 52...\n",
       "588117    4938 4668 571 4643 4234 3391 160 4623 4540 157...\n",
       "596178    4377 4384 4661 3661 1566 2384 2313 3007 3280 4...\n",
       "672696      4108 2067 3391 725 300 1687 5404 4467 5600 2331\n",
       "715904    3079 4279 5071 4898 4571 5170 563 3737 5171 8 ...\n",
       "Name: strOID, dtype: object"
      ]
     },
     "execution_count": 9,
     "metadata": {},
     "output_type": "execute_result"
    }
   ],
   "source": [
    "dfGB2 = df2Filtered.groupby(df2Filtered.index)\n",
    "dfConcat = dfGB2[\"strOID\"].agg(lambda x : ' '.join(x))\n",
    "dfConcat.head()"
   ]
  },
  {
   "cell_type": "code",
   "execution_count": 10,
   "metadata": {
    "collapsed": true
   },
   "outputs": [],
   "source": [
    "dfConcat.to_csv(\"user_data_wIndex.txt\", header=False, index=True)\n",
    "dfConcat.to_csv(\"user_data_woIndex.txt\", header=False, index=False)"
   ]
  },
  {
   "cell_type": "code",
   "execution_count": 2,
   "metadata": {},
   "outputs": [
    {
     "data": {
      "text/html": [
       "<div>\n",
       "<style>\n",
       "    .dataframe thead tr:only-child th {\n",
       "        text-align: right;\n",
       "    }\n",
       "\n",
       "    .dataframe thead th {\n",
       "        text-align: left;\n",
       "    }\n",
       "\n",
       "    .dataframe tbody tr th {\n",
       "        vertical-align: top;\n",
       "    }\n",
       "</style>\n",
       "<table border=\"1\" class=\"dataframe\">\n",
       "  <thead>\n",
       "    <tr style=\"text-align: right;\">\n",
       "      <th></th>\n",
       "      <th>objectID</th>\n",
       "      <th>lastModified</th>\n",
       "    </tr>\n",
       "    <tr>\n",
       "      <th>userID</th>\n",
       "      <th></th>\n",
       "      <th></th>\n",
       "    </tr>\n",
       "  </thead>\n",
       "  <tbody>\n",
       "    <tr>\n",
       "      <th>715904</th>\n",
       "      <td>5685</td>\n",
       "      <td>2018-06-06 09:58:50</td>\n",
       "    </tr>\n",
       "    <tr>\n",
       "      <th>715904</th>\n",
       "      <td>5705</td>\n",
       "      <td>2018-06-06 09:58:56</td>\n",
       "    </tr>\n",
       "    <tr>\n",
       "      <th>715904</th>\n",
       "      <td>5706</td>\n",
       "      <td>2018-06-06 09:59:02</td>\n",
       "    </tr>\n",
       "    <tr>\n",
       "      <th>715904</th>\n",
       "      <td>3825</td>\n",
       "      <td>2018-06-06 10:00:07</td>\n",
       "    </tr>\n",
       "    <tr>\n",
       "      <th>715904</th>\n",
       "      <td>6155</td>\n",
       "      <td>2018-06-06 10:48:24</td>\n",
       "    </tr>\n",
       "  </tbody>\n",
       "</table>\n",
       "</div>"
      ],
      "text/plain": [
       "        objectID         lastModified\n",
       "userID                               \n",
       "715904      5685  2018-06-06 09:58:50\n",
       "715904      5705  2018-06-06 09:58:56\n",
       "715904      5706  2018-06-06 09:59:02\n",
       "715904      3825  2018-06-06 10:00:07\n",
       "715904      6155  2018-06-06 10:48:24"
      ]
     },
     "execution_count": 2,
     "metadata": {},
     "output_type": "execute_result"
    }
   ],
   "source": [
    "df3 = pd.read_csv(\"data/testSetEvents.csv\", sep=\";\", header=0, index_col=0)\n",
    "df3.head()"
   ]
  },
  {
   "cell_type": "code",
   "execution_count": 3,
   "metadata": {
    "collapsed": true
   },
   "outputs": [],
   "source": [
    "df3[\"strOID\"] = df3.objectID.astype('str')\n",
    "dfGB = df3.groupby(df3.index)"
   ]
  },
  {
   "cell_type": "code",
   "execution_count": 4,
   "metadata": {},
   "outputs": [
    {
     "data": {
      "text/plain": [
       "userID\n",
       "715904     5685 5705 5706 3825 6155 1401 5954 2313 4911 5...\n",
       "883157     3966 3686 5970 5969 6012 3273 5757 5600 5234 5...\n",
       "983836                                                  1352\n",
       "1045749         6023 6028 6053 6234 6052 6051 6029 6039 6032\n",
       "1050097                                       6085 6096 6191\n",
       "Name: strOID, dtype: object"
      ]
     },
     "execution_count": 4,
     "metadata": {},
     "output_type": "execute_result"
    }
   ],
   "source": [
    "dfConcat = dfGB[\"strOID\"].agg(lambda x : ' '.join(x))\n",
    "dfConcat.head()"
   ]
  },
  {
   "cell_type": "code",
   "execution_count": 5,
   "metadata": {
    "collapsed": true
   },
   "outputs": [],
   "source": [
    "dfConcat.to_csv(\"test_data_wIndex.txt\", header=True, index=True)"
   ]
  },
  {
   "cell_type": "code",
   "execution_count": 15,
   "metadata": {},
   "outputs": [
    {
     "data": {
      "text/html": [
       "<div>\n",
       "<style scoped>\n",
       "    .dataframe tbody tr th:only-of-type {\n",
       "        vertical-align: middle;\n",
       "    }\n",
       "\n",
       "    .dataframe tbody tr th {\n",
       "        vertical-align: top;\n",
       "    }\n",
       "\n",
       "    .dataframe thead th {\n",
       "        text-align: right;\n",
       "    }\n",
       "</style>\n",
       "<table border=\"1\" class=\"dataframe\">\n",
       "  <thead>\n",
       "    <tr style=\"text-align: right;\">\n",
       "      <th></th>\n",
       "      <th>objectID</th>\n",
       "      <th>lastModified</th>\n",
       "    </tr>\n",
       "    <tr>\n",
       "      <th>userID</th>\n",
       "      <th></th>\n",
       "      <th></th>\n",
       "    </tr>\n",
       "  </thead>\n",
       "  <tbody>\n",
       "    <tr>\n",
       "      <th>186543</th>\n",
       "      <td>4927</td>\n",
       "      <td>2016-06-05 08:32:31</td>\n",
       "    </tr>\n",
       "    <tr>\n",
       "      <th>531244</th>\n",
       "      <td>4805</td>\n",
       "      <td>2016-01-19 12:06:10</td>\n",
       "    </tr>\n",
       "    <tr>\n",
       "      <th>531244</th>\n",
       "      <td>3</td>\n",
       "      <td>2016-06-23 11:42:13</td>\n",
       "    </tr>\n",
       "    <tr>\n",
       "      <th>531244</th>\n",
       "      <td>2155</td>\n",
       "      <td>2016-06-23 11:44:32</td>\n",
       "    </tr>\n",
       "    <tr>\n",
       "      <th>531244</th>\n",
       "      <td>4728</td>\n",
       "      <td>2016-07-26 07:18:13</td>\n",
       "    </tr>\n",
       "  </tbody>\n",
       "</table>\n",
       "</div>"
      ],
      "text/plain": [
       "        objectID         lastModified\n",
       "userID                               \n",
       "186543      4927  2016-06-05 08:32:31\n",
       "531244      4805  2016-01-19 12:06:10\n",
       "531244         3  2016-06-23 11:42:13\n",
       "531244      2155  2016-06-23 11:44:32\n",
       "531244      4728  2016-07-26 07:18:13"
      ]
     },
     "execution_count": 15,
     "metadata": {},
     "output_type": "execute_result"
    }
   ],
   "source": [
    "df3 = pd.read_csv(\"data/userEvents.csv\", sep=\";\", header=0, index_col=0)\n",
    "df3.head()"
   ]
  },
  {
   "cell_type": "code",
   "execution_count": 16,
   "metadata": {},
   "outputs": [
    {
     "data": {
      "text/plain": [
       "userID\n",
       "186543                                                 4927\n",
       "531244    4805 3 2155 4728 160 4802 4687 4891 5088 98 52...\n",
       "588117    4938 4668 571 4643 4234 3391 160 4623 4540 157...\n",
       "596178    4377 4384 4661 3661 1566 2384 2313 3007 3280 4...\n",
       "672696      4108 2067 3391 725 300 1687 5404 4467 5600 2331\n",
       "Name: strOID, dtype: object"
      ]
     },
     "execution_count": 16,
     "metadata": {},
     "output_type": "execute_result"
    }
   ],
   "source": [
    "df3[\"strOID\"] = df3.objectID.astype('str')\n",
    "dfGB = df3.groupby(df3.index)\n",
    "dfConcat = dfGB[\"strOID\"].agg(lambda x : ' '.join(x))\n",
    "dfConcat.head()"
   ]
  },
  {
   "cell_type": "code",
   "execution_count": 17,
   "metadata": {
    "collapsed": true
   },
   "outputs": [],
   "source": [
    "dfConcat.to_csv(\"data/train_data_wIndex.txt\", header=True, index=True)"
   ]
  },
  {
   "cell_type": "code",
   "execution_count": 18,
   "metadata": {},
   "outputs": [
    {
     "data": {
      "text/plain": [
       "userID\n",
       "186543                                  2016-06-05 08:32:31\n",
       "531244    2016-01-19 12:06:10,2016-06-23 11:42:13,2016-0...\n",
       "588117    2016-04-15 09:42:17,2016-04-25 12:35:49,2016-0...\n",
       "596178    2016-01-04 16:37:41,2016-01-04 16:38:45,2016-0...\n",
       "672696    2016-02-15 17:04:57,2016-02-15 17:05:19,2016-0...\n",
       "Name: strDates, dtype: object"
      ]
     },
     "execution_count": 18,
     "metadata": {},
     "output_type": "execute_result"
    }
   ],
   "source": [
    "df3[\"strDates\"] = df3.lastModified.astype('str')\n",
    "dfGB = df3.groupby(df3.index)\n",
    "dfConcat = dfGB[\"strDates\"].agg(lambda x : ','.join(x))\n",
    "dfConcat.head()"
   ]
  },
  {
   "cell_type": "code",
   "execution_count": 20,
   "metadata": {
    "collapsed": true
   },
   "outputs": [],
   "source": [
    "dfConcat.to_csv(\"data/train_data_datetime_wIndex.txt\", sep=\";\", header=True, index=True)"
   ]
  },
  {
   "cell_type": "code",
   "execution_count": null,
   "metadata": {
    "collapsed": true
   },
   "outputs": [],
   "source": [
    "testSet = pd.read_csv(\"data/test_data_wIndex.txt\", sep=\",\", header=0, index_col=0)\n",
    "testSet.head()"
   ]
  },
  {
   "cell_type": "code",
   "execution_count": null,
   "metadata": {
    "collapsed": true
   },
   "outputs": [],
   "source": [
    "testSet[\"oids\"] = testSet.strOID.str.split()\n",
    "testSet.head()"
   ]
  },
  {
   "cell_type": "code",
   "execution_count": null,
   "metadata": {
    "collapsed": true
   },
   "outputs": [],
   "source": [
    "trainSet = pd.read_csv(\"data/user_data_wIndex.txt\", sep=\",\", header=None, index_col=0)\n",
    "trainSet[\"oids\"] = trainSet[1].str.split()\n",
    "trainSet.head()"
   ]
  },
  {
   "cell_type": "code",
   "execution_count": null,
   "metadata": {
    "collapsed": true
   },
   "outputs": [],
   "source": [
    "df = pd.read_csv(\"data/serial_only_data.csv\", sep=\";\", header=0, index_col=0)\n",
    "df.shape"
   ]
  },
  {
   "cell_type": "code",
   "execution_count": null,
   "metadata": {
    "collapsed": true
   },
   "outputs": [],
   "source": [
    "df.head()"
   ]
  },
  {
   "cell_type": "code",
   "execution_count": null,
   "metadata": {
    "collapsed": true
   },
   "outputs": [],
   "source": [
    "df.id_typ = df.id_typ.astype(str)\n",
    "df.strava = df.strava.astype(str)\n",
    "df.doprava = df.doprava.astype(str)\n",
    "df.ubytovani = df.ubytovani.astype(str)\n",
    "df.head()"
   ]
  },
  {
   "cell_type": "code",
   "execution_count": null,
   "metadata": {
    "collapsed": true
   },
   "outputs": [],
   "source": [
    "df.fillna(\"\", inplace=True)\n",
    "df.zeme = df.zeme.str.replace(r':.+', \"\")\n",
    "df.destinace = df.destinace.str.replace(r':.+', \"\")\n",
    "df.head()"
   ]
  },
  {
   "cell_type": "code",
   "execution_count": null,
   "metadata": {
    "collapsed": true
   },
   "outputs": [],
   "source": [
    "dfDummy = pd.get_dummies(df[[\"id_typ\",\"strava\",\"doprava\",\"ubytovani\",\"zeme\",\"destinace\"]], prefix=[\"typ\",\"strava\",\"doprava\",\"ubytovani\",\"zeme\",\"destinace\"])\n",
    "dfDummy.head()"
   ]
  },
  {
   "cell_type": "code",
   "execution_count": null,
   "metadata": {
    "collapsed": true
   },
   "outputs": [],
   "source": [
    "from sklearn.preprocessing import StandardScaler\n",
    "scaler = StandardScaler()\n",
    "vals = scaler.fit_transform(df[[\"ubytovani_kategorie\", \"AVG(prumerna_cena)\",\"AVG(prumerna_cena_noc)\",\"AVG(delka)\"]].values)\n",
    "df[[\"ubytovani_kategorie\", \"AVG(prumerna_cena)\",\"AVG(prumerna_cena_noc)\",\"AVG(delka)\"]] = vals\n",
    "df.head()"
   ]
  },
  {
   "cell_type": "code",
   "execution_count": null,
   "metadata": {
    "collapsed": true
   },
   "outputs": [],
   "source": [
    "dfDummy[[\"ubytovani_kategorie\", \"AVG(prumerna_cena)\",\"AVG(prumerna_cena_noc)\",\"AVG(delka)\"]] = df[[\"ubytovani_kategorie\", \"AVG(prumerna_cena)\",\"AVG(prumerna_cena_noc)\",\"AVG(delka)\"]]\n",
    "dfDummy.head()"
   ]
  },
  {
   "cell_type": "code",
   "execution_count": null,
   "metadata": {
    "collapsed": true
   },
   "outputs": [],
   "source": [
    "dfDummy.to_csv(\"data/serialCBFeatures.txt\", header=True, index=True)"
   ]
  },
  {
   "cell_type": "code",
   "execution_count": 33,
   "metadata": {},
   "outputs": [
    {
     "data": {
      "text/html": [
       "<div>\n",
       "<style>\n",
       "    .dataframe thead tr:only-child th {\n",
       "        text-align: right;\n",
       "    }\n",
       "\n",
       "    .dataframe thead th {\n",
       "        text-align: left;\n",
       "    }\n",
       "\n",
       "    .dataframe tbody tr th {\n",
       "        vertical-align: top;\n",
       "    }\n",
       "</style>\n",
       "<table border=\"1\" class=\"dataframe\">\n",
       "  <thead>\n",
       "    <tr style=\"text-align: right;\">\n",
       "      <th></th>\n",
       "      <th>strDates</th>\n",
       "    </tr>\n",
       "    <tr>\n",
       "      <th>userID</th>\n",
       "      <th></th>\n",
       "    </tr>\n",
       "  </thead>\n",
       "  <tbody>\n",
       "    <tr>\n",
       "      <th>186543</th>\n",
       "      <td>2016-06-05 08:32:31</td>\n",
       "    </tr>\n",
       "    <tr>\n",
       "      <th>531244</th>\n",
       "      <td>2016-01-19 12:06:10,2016-06-23 11:42:13,2016-0...</td>\n",
       "    </tr>\n",
       "    <tr>\n",
       "      <th>588117</th>\n",
       "      <td>2016-04-15 09:42:17,2016-04-25 12:35:49,2016-0...</td>\n",
       "    </tr>\n",
       "    <tr>\n",
       "      <th>596178</th>\n",
       "      <td>2016-01-04 16:37:41,2016-01-04 16:38:45,2016-0...</td>\n",
       "    </tr>\n",
       "    <tr>\n",
       "      <th>672696</th>\n",
       "      <td>2016-02-15 17:04:57,2016-02-15 17:05:19,2016-0...</td>\n",
       "    </tr>\n",
       "  </tbody>\n",
       "</table>\n",
       "</div>"
      ],
      "text/plain": [
       "                                                 strDates\n",
       "userID                                                   \n",
       "186543                                2016-06-05 08:32:31\n",
       "531244  2016-01-19 12:06:10,2016-06-23 11:42:13,2016-0...\n",
       "588117  2016-04-15 09:42:17,2016-04-25 12:35:49,2016-0...\n",
       "596178  2016-01-04 16:37:41,2016-01-04 16:38:45,2016-0...\n",
       "672696  2016-02-15 17:04:57,2016-02-15 17:05:19,2016-0..."
      ]
     },
     "execution_count": 33,
     "metadata": {},
     "output_type": "execute_result"
    }
   ],
   "source": [
    "df = pd.read_csv(\"data/train_data_datetime_wIndex.txt\", sep=\";\", header=0, index_col=0)\n",
    "df.head()"
   ]
  },
  {
   "cell_type": "code",
   "execution_count": 34,
   "metadata": {},
   "outputs": [
    {
     "data": {
      "text/html": [
       "<div>\n",
       "<style>\n",
       "    .dataframe thead tr:only-child th {\n",
       "        text-align: right;\n",
       "    }\n",
       "\n",
       "    .dataframe thead th {\n",
       "        text-align: left;\n",
       "    }\n",
       "\n",
       "    .dataframe tbody tr th {\n",
       "        vertical-align: top;\n",
       "    }\n",
       "</style>\n",
       "<table border=\"1\" class=\"dataframe\">\n",
       "  <thead>\n",
       "    <tr style=\"text-align: right;\">\n",
       "      <th></th>\n",
       "      <th>strDates</th>\n",
       "      <th>dates</th>\n",
       "    </tr>\n",
       "    <tr>\n",
       "      <th>userID</th>\n",
       "      <th></th>\n",
       "      <th></th>\n",
       "    </tr>\n",
       "  </thead>\n",
       "  <tbody>\n",
       "    <tr>\n",
       "      <th>186543</th>\n",
       "      <td>2016-06-05 08:32:31</td>\n",
       "      <td>[2016-06-05 08:32:31]</td>\n",
       "    </tr>\n",
       "    <tr>\n",
       "      <th>531244</th>\n",
       "      <td>2016-01-19 12:06:10,2016-06-23 11:42:13,2016-0...</td>\n",
       "      <td>[2016-01-19 12:06:10, 2016-06-23 11:42:13, 201...</td>\n",
       "    </tr>\n",
       "    <tr>\n",
       "      <th>588117</th>\n",
       "      <td>2016-04-15 09:42:17,2016-04-25 12:35:49,2016-0...</td>\n",
       "      <td>[2016-04-15 09:42:17, 2016-04-25 12:35:49, 201...</td>\n",
       "    </tr>\n",
       "    <tr>\n",
       "      <th>596178</th>\n",
       "      <td>2016-01-04 16:37:41,2016-01-04 16:38:45,2016-0...</td>\n",
       "      <td>[2016-01-04 16:37:41, 2016-01-04 16:38:45, 201...</td>\n",
       "    </tr>\n",
       "    <tr>\n",
       "      <th>672696</th>\n",
       "      <td>2016-02-15 17:04:57,2016-02-15 17:05:19,2016-0...</td>\n",
       "      <td>[2016-02-15 17:04:57, 2016-02-15 17:05:19, 201...</td>\n",
       "    </tr>\n",
       "  </tbody>\n",
       "</table>\n",
       "</div>"
      ],
      "text/plain": [
       "                                                 strDates  \\\n",
       "userID                                                      \n",
       "186543                                2016-06-05 08:32:31   \n",
       "531244  2016-01-19 12:06:10,2016-06-23 11:42:13,2016-0...   \n",
       "588117  2016-04-15 09:42:17,2016-04-25 12:35:49,2016-0...   \n",
       "596178  2016-01-04 16:37:41,2016-01-04 16:38:45,2016-0...   \n",
       "672696  2016-02-15 17:04:57,2016-02-15 17:05:19,2016-0...   \n",
       "\n",
       "                                                    dates  \n",
       "userID                                                     \n",
       "186543                              [2016-06-05 08:32:31]  \n",
       "531244  [2016-01-19 12:06:10, 2016-06-23 11:42:13, 201...  \n",
       "588117  [2016-04-15 09:42:17, 2016-04-25 12:35:49, 201...  \n",
       "596178  [2016-01-04 16:37:41, 2016-01-04 16:38:45, 201...  \n",
       "672696  [2016-02-15 17:04:57, 2016-02-15 17:05:19, 201...  "
      ]
     },
     "execution_count": 34,
     "metadata": {},
     "output_type": "execute_result"
    }
   ],
   "source": [
    "df[\"dates\"] = df.strDates.str.split(\",\")\n",
    "df.head()"
   ]
  },
  {
   "cell_type": "code",
   "execution_count": 35,
   "metadata": {},
   "outputs": [
    {
     "data": {
      "text/plain": [
       "datetime.datetime(2018, 7, 1, 0, 0)"
      ]
     },
     "execution_count": 35,
     "metadata": {},
     "output_type": "execute_result"
    }
   ],
   "source": [
    "import datetime\n",
    "now = datetime.datetime(2018, 7, 1, 00, 00)\n",
    "now"
   ]
  },
  {
   "cell_type": "code",
   "execution_count": 36,
   "metadata": {},
   "outputs": [
    {
     "data": {
      "text/html": [
       "<div>\n",
       "<style>\n",
       "    .dataframe thead tr:only-child th {\n",
       "        text-align: right;\n",
       "    }\n",
       "\n",
       "    .dataframe thead th {\n",
       "        text-align: left;\n",
       "    }\n",
       "\n",
       "    .dataframe tbody tr th {\n",
       "        vertical-align: top;\n",
       "    }\n",
       "</style>\n",
       "<table border=\"1\" class=\"dataframe\">\n",
       "  <thead>\n",
       "    <tr style=\"text-align: right;\">\n",
       "      <th></th>\n",
       "      <th>strDates</th>\n",
       "      <th>dates</th>\n",
       "      <th>logDays</th>\n",
       "    </tr>\n",
       "    <tr>\n",
       "      <th>userID</th>\n",
       "      <th></th>\n",
       "      <th></th>\n",
       "      <th></th>\n",
       "    </tr>\n",
       "  </thead>\n",
       "  <tbody>\n",
       "    <tr>\n",
       "      <th>186543</th>\n",
       "      <td>2016-06-05 08:32:31</td>\n",
       "      <td>[2016-06-05 08:32:31]</td>\n",
       "      <td></td>\n",
       "    </tr>\n",
       "    <tr>\n",
       "      <th>531244</th>\n",
       "      <td>2016-01-19 12:06:10,2016-06-23 11:42:13,2016-0...</td>\n",
       "      <td>[2016-01-19 12:06:10, 2016-06-23 11:42:13, 201...</td>\n",
       "      <td></td>\n",
       "    </tr>\n",
       "    <tr>\n",
       "      <th>588117</th>\n",
       "      <td>2016-04-15 09:42:17,2016-04-25 12:35:49,2016-0...</td>\n",
       "      <td>[2016-04-15 09:42:17, 2016-04-25 12:35:49, 201...</td>\n",
       "      <td></td>\n",
       "    </tr>\n",
       "    <tr>\n",
       "      <th>596178</th>\n",
       "      <td>2016-01-04 16:37:41,2016-01-04 16:38:45,2016-0...</td>\n",
       "      <td>[2016-01-04 16:37:41, 2016-01-04 16:38:45, 201...</td>\n",
       "      <td></td>\n",
       "    </tr>\n",
       "    <tr>\n",
       "      <th>672696</th>\n",
       "      <td>2016-02-15 17:04:57,2016-02-15 17:05:19,2016-0...</td>\n",
       "      <td>[2016-02-15 17:04:57, 2016-02-15 17:05:19, 201...</td>\n",
       "      <td></td>\n",
       "    </tr>\n",
       "  </tbody>\n",
       "</table>\n",
       "</div>"
      ],
      "text/plain": [
       "                                                 strDates  \\\n",
       "userID                                                      \n",
       "186543                                2016-06-05 08:32:31   \n",
       "531244  2016-01-19 12:06:10,2016-06-23 11:42:13,2016-0...   \n",
       "588117  2016-04-15 09:42:17,2016-04-25 12:35:49,2016-0...   \n",
       "596178  2016-01-04 16:37:41,2016-01-04 16:38:45,2016-0...   \n",
       "672696  2016-02-15 17:04:57,2016-02-15 17:05:19,2016-0...   \n",
       "\n",
       "                                                    dates logDays  \n",
       "userID                                                             \n",
       "186543                              [2016-06-05 08:32:31]          \n",
       "531244  [2016-01-19 12:06:10, 2016-06-23 11:42:13, 201...          \n",
       "588117  [2016-04-15 09:42:17, 2016-04-25 12:35:49, 201...          \n",
       "596178  [2016-01-04 16:37:41, 2016-01-04 16:38:45, 201...          \n",
       "672696  [2016-02-15 17:04:57, 2016-02-15 17:05:19, 201...          "
      ]
     },
     "execution_count": 36,
     "metadata": {},
     "output_type": "execute_result"
    }
   ],
   "source": [
    "df[\"logDays\"] = \"\"\n",
    "df.head()"
   ]
  },
  {
   "cell_type": "code",
   "execution_count": 37,
   "metadata": {},
   "outputs": [
    {
     "data": {
      "text/html": [
       "<div>\n",
       "<style>\n",
       "    .dataframe thead tr:only-child th {\n",
       "        text-align: right;\n",
       "    }\n",
       "\n",
       "    .dataframe thead th {\n",
       "        text-align: left;\n",
       "    }\n",
       "\n",
       "    .dataframe tbody tr th {\n",
       "        vertical-align: top;\n",
       "    }\n",
       "</style>\n",
       "<table border=\"1\" class=\"dataframe\">\n",
       "  <thead>\n",
       "    <tr style=\"text-align: right;\">\n",
       "      <th></th>\n",
       "      <th>strDates</th>\n",
       "      <th>dates</th>\n",
       "      <th>logDays</th>\n",
       "    </tr>\n",
       "    <tr>\n",
       "      <th>userID</th>\n",
       "      <th></th>\n",
       "      <th></th>\n",
       "      <th></th>\n",
       "    </tr>\n",
       "  </thead>\n",
       "  <tbody>\n",
       "    <tr>\n",
       "      <th>186543</th>\n",
       "      <td>2016-06-05 08:32:31</td>\n",
       "      <td>[2016-06-05 08:32:31]</td>\n",
       "      <td></td>\n",
       "    </tr>\n",
       "    <tr>\n",
       "      <th>531244</th>\n",
       "      <td>2016-01-19 12:06:10,2016-06-23 11:42:13,2016-0...</td>\n",
       "      <td>[2016-01-19 12:06:10, 2016-06-23 11:42:13, 201...</td>\n",
       "      <td></td>\n",
       "    </tr>\n",
       "    <tr>\n",
       "      <th>588117</th>\n",
       "      <td>2016-04-15 09:42:17,2016-04-25 12:35:49,2016-0...</td>\n",
       "      <td>[2016-04-15 09:42:17, 2016-04-25 12:35:49, 201...</td>\n",
       "      <td></td>\n",
       "    </tr>\n",
       "    <tr>\n",
       "      <th>596178</th>\n",
       "      <td>2016-01-04 16:37:41,2016-01-04 16:38:45,2016-0...</td>\n",
       "      <td>[2016-01-04 16:37:41, 2016-01-04 16:38:45, 201...</td>\n",
       "      <td></td>\n",
       "    </tr>\n",
       "    <tr>\n",
       "      <th>672696</th>\n",
       "      <td>2016-02-15 17:04:57,2016-02-15 17:05:19,2016-0...</td>\n",
       "      <td>[2016-02-15 17:04:57, 2016-02-15 17:05:19, 201...</td>\n",
       "      <td></td>\n",
       "    </tr>\n",
       "  </tbody>\n",
       "</table>\n",
       "</div>"
      ],
      "text/plain": [
       "                                                 strDates  \\\n",
       "userID                                                      \n",
       "186543                                2016-06-05 08:32:31   \n",
       "531244  2016-01-19 12:06:10,2016-06-23 11:42:13,2016-0...   \n",
       "588117  2016-04-15 09:42:17,2016-04-25 12:35:49,2016-0...   \n",
       "596178  2016-01-04 16:37:41,2016-01-04 16:38:45,2016-0...   \n",
       "672696  2016-02-15 17:04:57,2016-02-15 17:05:19,2016-0...   \n",
       "\n",
       "                                                    dates logDays  \n",
       "userID                                                             \n",
       "186543                              [2016-06-05 08:32:31]          \n",
       "531244  [2016-01-19 12:06:10, 2016-06-23 11:42:13, 201...          \n",
       "588117  [2016-04-15 09:42:17, 2016-04-25 12:35:49, 201...          \n",
       "596178  [2016-01-04 16:37:41, 2016-01-04 16:38:45, 201...          \n",
       "672696  [2016-02-15 17:04:57, 2016-02-15 17:05:19, 201...          "
      ]
     },
     "execution_count": 37,
     "metadata": {},
     "output_type": "execute_result"
    }
   ],
   "source": [
    "df.logDays.astype(object, inplace=True)\n",
    "df.head()"
   ]
  },
  {
   "cell_type": "code",
   "execution_count": 38,
   "metadata": {},
   "outputs": [
    {
     "data": {
      "text/html": [
       "<div>\n",
       "<style>\n",
       "    .dataframe thead tr:only-child th {\n",
       "        text-align: right;\n",
       "    }\n",
       "\n",
       "    .dataframe thead th {\n",
       "        text-align: left;\n",
       "    }\n",
       "\n",
       "    .dataframe tbody tr th {\n",
       "        vertical-align: top;\n",
       "    }\n",
       "</style>\n",
       "<table border=\"1\" class=\"dataframe\">\n",
       "  <thead>\n",
       "    <tr style=\"text-align: right;\">\n",
       "      <th></th>\n",
       "      <th>strDates</th>\n",
       "      <th>dates</th>\n",
       "      <th>logDays</th>\n",
       "    </tr>\n",
       "    <tr>\n",
       "      <th>userID</th>\n",
       "      <th></th>\n",
       "      <th></th>\n",
       "      <th></th>\n",
       "    </tr>\n",
       "  </thead>\n",
       "  <tbody>\n",
       "    <tr>\n",
       "      <th>186543</th>\n",
       "      <td>2016-06-05 08:32:31</td>\n",
       "      <td>[2016-06-05 08:32:31]</td>\n",
       "      <td>[0.14866091268830786]</td>\n",
       "    </tr>\n",
       "    <tr>\n",
       "      <th>531244</th>\n",
       "      <td>2016-01-19 12:06:10,2016-06-23 11:42:13,2016-0...</td>\n",
       "      <td>[2016-01-19 12:06:10, 2016-06-23 11:42:13, 201...</td>\n",
       "      <td>[0.14504132891357085, 0.14919610396535354, 0.1...</td>\n",
       "    </tr>\n",
       "    <tr>\n",
       "      <th>588117</th>\n",
       "      <td>2016-04-15 09:42:17,2016-04-25 12:35:49,2016-0...</td>\n",
       "      <td>[2016-04-15 09:42:17, 2016-04-25 12:35:49, 201...</td>\n",
       "      <td>[0.14723022240461198, 0.14750134522524172, 0.1...</td>\n",
       "    </tr>\n",
       "    <tr>\n",
       "      <th>596178</th>\n",
       "      <td>2016-01-04 16:37:41,2016-01-04 16:38:45,2016-0...</td>\n",
       "      <td>[2016-01-04 16:37:41, 2016-01-04 16:38:45, 201...</td>\n",
       "      <td>[0.1446917436599719, 0.1446917436599719, 0.144...</td>\n",
       "    </tr>\n",
       "    <tr>\n",
       "      <th>672696</th>\n",
       "      <td>2016-02-15 17:04:57,2016-02-15 17:05:19,2016-0...</td>\n",
       "      <td>[2016-02-15 17:04:57, 2016-02-15 17:05:19, 201...</td>\n",
       "      <td>[0.1456900885317203, 0.1456900885317203, 0.146...</td>\n",
       "    </tr>\n",
       "  </tbody>\n",
       "</table>\n",
       "</div>"
      ],
      "text/plain": [
       "                                                 strDates  \\\n",
       "userID                                                      \n",
       "186543                                2016-06-05 08:32:31   \n",
       "531244  2016-01-19 12:06:10,2016-06-23 11:42:13,2016-0...   \n",
       "588117  2016-04-15 09:42:17,2016-04-25 12:35:49,2016-0...   \n",
       "596178  2016-01-04 16:37:41,2016-01-04 16:38:45,2016-0...   \n",
       "672696  2016-02-15 17:04:57,2016-02-15 17:05:19,2016-0...   \n",
       "\n",
       "                                                    dates  \\\n",
       "userID                                                      \n",
       "186543                              [2016-06-05 08:32:31]   \n",
       "531244  [2016-01-19 12:06:10, 2016-06-23 11:42:13, 201...   \n",
       "588117  [2016-04-15 09:42:17, 2016-04-25 12:35:49, 201...   \n",
       "596178  [2016-01-04 16:37:41, 2016-01-04 16:38:45, 201...   \n",
       "672696  [2016-02-15 17:04:57, 2016-02-15 17:05:19, 201...   \n",
       "\n",
       "                                                  logDays  \n",
       "userID                                                     \n",
       "186543                              [0.14866091268830786]  \n",
       "531244  [0.14504132891357085, 0.14919610396535354, 0.1...  \n",
       "588117  [0.14723022240461198, 0.14750134522524172, 0.1...  \n",
       "596178  [0.1446917436599719, 0.1446917436599719, 0.144...  \n",
       "672696  [0.1456900885317203, 0.1456900885317203, 0.146...  "
      ]
     },
     "execution_count": 38,
     "metadata": {},
     "output_type": "execute_result"
    }
   ],
   "source": [
    "import math\n",
    "for idx,val in df.dates.iteritems():\n",
    "    v2 = [1/(math.log(max([(now - datetime.datetime.strptime(i, '%Y-%m-%d %H:%M:%S')).days,1]) )+0.1) for i in val]\n",
    "    df.logDays[idx] = v2\n",
    "df.head()"
   ]
  },
  {
   "cell_type": "code",
   "execution_count": 39,
   "metadata": {
    "collapsed": true
   },
   "outputs": [],
   "source": [
    "df = df[[\"logDays\"]]\n",
    "df.to_csv(\"data/serialLogDays.txt\", header=True, index=True)"
   ]
  },
  {
   "cell_type": "code",
   "execution_count": null,
   "metadata": {
    "collapsed": true
   },
   "outputs": [],
   "source": []
  }
 ],
 "metadata": {
  "anaconda-cloud": {},
  "kernelspec": {
   "display_name": "Python 3",
   "language": "python",
   "name": "python3"
  },
  "language_info": {
   "codemirror_mode": {
    "name": "ipython",
    "version": 3
   },
   "file_extension": ".py",
   "mimetype": "text/x-python",
   "name": "python",
   "nbconvert_exporter": "python",
   "pygments_lexer": "ipython3",
   "version": "3.7.1"
  }
 },
 "nbformat": 4,
 "nbformat_minor": 1
}
