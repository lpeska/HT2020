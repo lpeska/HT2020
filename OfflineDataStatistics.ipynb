{
 "cells": [
  {
   "cell_type": "code",
   "execution_count": 1,
   "metadata": {},
   "outputs": [],
   "source": [
    "import pandas as pd\n",
    "import numpy as np"
   ]
  },
  {
   "cell_type": "code",
   "execution_count": 2,
   "metadata": {},
   "outputs": [
    {
     "data": {
      "text/html": [
       "<div>\n",
       "<style scoped>\n",
       "    .dataframe tbody tr th:only-of-type {\n",
       "        vertical-align: middle;\n",
       "    }\n",
       "\n",
       "    .dataframe tbody tr th {\n",
       "        vertical-align: top;\n",
       "    }\n",
       "\n",
       "    .dataframe thead th {\n",
       "        text-align: right;\n",
       "    }\n",
       "</style>\n",
       "<table border=\"1\" class=\"dataframe\">\n",
       "  <thead>\n",
       "    <tr style=\"text-align: right;\">\n",
       "      <th></th>\n",
       "      <th>objectID</th>\n",
       "      <th>lastModified</th>\n",
       "    </tr>\n",
       "    <tr>\n",
       "      <th>userID</th>\n",
       "      <th></th>\n",
       "      <th></th>\n",
       "    </tr>\n",
       "  </thead>\n",
       "  <tbody>\n",
       "    <tr>\n",
       "      <th>186543</th>\n",
       "      <td>4927</td>\n",
       "      <td>2016-06-05 08:32:31</td>\n",
       "    </tr>\n",
       "    <tr>\n",
       "      <th>531244</th>\n",
       "      <td>4805</td>\n",
       "      <td>2016-01-19 12:06:10</td>\n",
       "    </tr>\n",
       "    <tr>\n",
       "      <th>531244</th>\n",
       "      <td>3</td>\n",
       "      <td>2016-06-23 11:42:13</td>\n",
       "    </tr>\n",
       "    <tr>\n",
       "      <th>531244</th>\n",
       "      <td>2155</td>\n",
       "      <td>2016-06-23 11:44:32</td>\n",
       "    </tr>\n",
       "    <tr>\n",
       "      <th>531244</th>\n",
       "      <td>4728</td>\n",
       "      <td>2016-07-26 07:18:13</td>\n",
       "    </tr>\n",
       "  </tbody>\n",
       "</table>\n",
       "</div>"
      ],
      "text/plain": [
       "        objectID         lastModified\n",
       "userID                               \n",
       "186543      4927  2016-06-05 08:32:31\n",
       "531244      4805  2016-01-19 12:06:10\n",
       "531244         3  2016-06-23 11:42:13\n",
       "531244      2155  2016-06-23 11:44:32\n",
       "531244      4728  2016-07-26 07:18:13"
      ]
     },
     "execution_count": 2,
     "metadata": {},
     "output_type": "execute_result"
    }
   ],
   "source": [
    "df2 = pd.read_csv(\"data/userEvents.csv\", sep=\";\", header=0, index_col=0)\n",
    "df2.head()"
   ]
  },
  {
   "cell_type": "code",
   "execution_count": 3,
   "metadata": {},
   "outputs": [],
   "source": [
    "df2.lastModified = pd.to_datetime(df2.lastModified,infer_datetime_format=True)\n",
    "dfGB = df2.groupby(df2.index)"
   ]
  },
  {
   "cell_type": "code",
   "execution_count": 4,
   "metadata": {},
   "outputs": [
    {
     "data": {
      "text/html": [
       "<div>\n",
       "<style scoped>\n",
       "    .dataframe tbody tr th:only-of-type {\n",
       "        vertical-align: middle;\n",
       "    }\n",
       "\n",
       "    .dataframe tbody tr th {\n",
       "        vertical-align: top;\n",
       "    }\n",
       "\n",
       "    .dataframe thead th {\n",
       "        text-align: right;\n",
       "    }\n",
       "</style>\n",
       "<table border=\"1\" class=\"dataframe\">\n",
       "  <thead>\n",
       "    <tr style=\"text-align: right;\">\n",
       "      <th></th>\n",
       "      <th>count</th>\n",
       "      <th>max</th>\n",
       "      <th>min</th>\n",
       "    </tr>\n",
       "    <tr>\n",
       "      <th>userID</th>\n",
       "      <th></th>\n",
       "      <th></th>\n",
       "      <th></th>\n",
       "    </tr>\n",
       "  </thead>\n",
       "  <tbody>\n",
       "    <tr>\n",
       "      <th>186543</th>\n",
       "      <td>1</td>\n",
       "      <td>2016-06-05 08:32:31</td>\n",
       "      <td>2016-06-05 08:32:31</td>\n",
       "    </tr>\n",
       "    <tr>\n",
       "      <th>531244</th>\n",
       "      <td>35</td>\n",
       "      <td>2018-01-29 16:36:31</td>\n",
       "      <td>2016-01-19 12:06:10</td>\n",
       "    </tr>\n",
       "    <tr>\n",
       "      <th>588117</th>\n",
       "      <td>56</td>\n",
       "      <td>2018-05-21 11:45:05</td>\n",
       "      <td>2016-04-15 09:42:17</td>\n",
       "    </tr>\n",
       "    <tr>\n",
       "      <th>596178</th>\n",
       "      <td>55</td>\n",
       "      <td>2017-06-06 14:56:17</td>\n",
       "      <td>2016-01-04 16:37:41</td>\n",
       "    </tr>\n",
       "    <tr>\n",
       "      <th>672696</th>\n",
       "      <td>10</td>\n",
       "      <td>2017-05-06 08:27:27</td>\n",
       "      <td>2016-02-15 17:04:57</td>\n",
       "    </tr>\n",
       "  </tbody>\n",
       "</table>\n",
       "</div>"
      ],
      "text/plain": [
       "        count                 max                 min\n",
       "userID                                               \n",
       "186543      1 2016-06-05 08:32:31 2016-06-05 08:32:31\n",
       "531244     35 2018-01-29 16:36:31 2016-01-19 12:06:10\n",
       "588117     56 2018-05-21 11:45:05 2016-04-15 09:42:17\n",
       "596178     55 2017-06-06 14:56:17 2016-01-04 16:37:41\n",
       "672696     10 2017-05-06 08:27:27 2016-02-15 17:04:57"
      ]
     },
     "execution_count": 4,
     "metadata": {},
     "output_type": "execute_result"
    }
   ],
   "source": [
    "dfCount = dfGB[\"lastModified\"].agg(['count', 'max', 'min'])\n",
    "dfCount.head()"
   ]
  },
  {
   "cell_type": "code",
   "execution_count": 5,
   "metadata": {},
   "outputs": [
    {
     "data": {
      "text/html": [
       "<div>\n",
       "<style scoped>\n",
       "    .dataframe tbody tr th:only-of-type {\n",
       "        vertical-align: middle;\n",
       "    }\n",
       "\n",
       "    .dataframe tbody tr th {\n",
       "        vertical-align: top;\n",
       "    }\n",
       "\n",
       "    .dataframe thead th {\n",
       "        text-align: right;\n",
       "    }\n",
       "</style>\n",
       "<table border=\"1\" class=\"dataframe\">\n",
       "  <thead>\n",
       "    <tr style=\"text-align: right;\">\n",
       "      <th></th>\n",
       "      <th>count</th>\n",
       "      <th>max</th>\n",
       "      <th>min</th>\n",
       "      <th>diff</th>\n",
       "    </tr>\n",
       "    <tr>\n",
       "      <th>userID</th>\n",
       "      <th></th>\n",
       "      <th></th>\n",
       "      <th></th>\n",
       "      <th></th>\n",
       "    </tr>\n",
       "  </thead>\n",
       "  <tbody>\n",
       "    <tr>\n",
       "      <th>186543</th>\n",
       "      <td>1</td>\n",
       "      <td>2016-06-05 08:32:31</td>\n",
       "      <td>2016-06-05 08:32:31</td>\n",
       "      <td>0 days 00:00:00</td>\n",
       "    </tr>\n",
       "    <tr>\n",
       "      <th>531244</th>\n",
       "      <td>35</td>\n",
       "      <td>2018-01-29 16:36:31</td>\n",
       "      <td>2016-01-19 12:06:10</td>\n",
       "      <td>741 days 04:30:21</td>\n",
       "    </tr>\n",
       "    <tr>\n",
       "      <th>588117</th>\n",
       "      <td>56</td>\n",
       "      <td>2018-05-21 11:45:05</td>\n",
       "      <td>2016-04-15 09:42:17</td>\n",
       "      <td>766 days 02:02:48</td>\n",
       "    </tr>\n",
       "    <tr>\n",
       "      <th>596178</th>\n",
       "      <td>55</td>\n",
       "      <td>2017-06-06 14:56:17</td>\n",
       "      <td>2016-01-04 16:37:41</td>\n",
       "      <td>518 days 22:18:36</td>\n",
       "    </tr>\n",
       "    <tr>\n",
       "      <th>672696</th>\n",
       "      <td>10</td>\n",
       "      <td>2017-05-06 08:27:27</td>\n",
       "      <td>2016-02-15 17:04:57</td>\n",
       "      <td>445 days 15:22:30</td>\n",
       "    </tr>\n",
       "  </tbody>\n",
       "</table>\n",
       "</div>"
      ],
      "text/plain": [
       "        count                 max                 min              diff\n",
       "userID                                                                 \n",
       "186543      1 2016-06-05 08:32:31 2016-06-05 08:32:31   0 days 00:00:00\n",
       "531244     35 2018-01-29 16:36:31 2016-01-19 12:06:10 741 days 04:30:21\n",
       "588117     56 2018-05-21 11:45:05 2016-04-15 09:42:17 766 days 02:02:48\n",
       "596178     55 2017-06-06 14:56:17 2016-01-04 16:37:41 518 days 22:18:36\n",
       "672696     10 2017-05-06 08:27:27 2016-02-15 17:04:57 445 days 15:22:30"
      ]
     },
     "execution_count": 5,
     "metadata": {},
     "output_type": "execute_result"
    }
   ],
   "source": [
    "dfCount[\"diff\"] = dfCount[\"max\"] - dfCount[\"min\"]\n",
    "dfCount.head()"
   ]
  },
  {
   "cell_type": "code",
   "execution_count": 6,
   "metadata": {},
   "outputs": [
    {
     "data": {
      "text/plain": [
       "count                     372884\n",
       "mean      6 days 07:25:52.592948\n",
       "std      46 days 05:17:00.830481\n",
       "min              0 days 00:00:00\n",
       "25%              0 days 00:00:00\n",
       "50%              0 days 00:00:00\n",
       "75%              0 days 00:00:00\n",
       "max            877 days 05:45:11\n",
       "Name: diff, dtype: object"
      ]
     },
     "execution_count": 6,
     "metadata": {},
     "output_type": "execute_result"
    }
   ],
   "source": [
    "dfCount[\"diff\"].describe()"
   ]
  },
  {
   "cell_type": "code",
   "execution_count": 12,
   "metadata": {},
   "outputs": [
    {
     "data": {
      "text/plain": [
       "count                       69487\n",
       "mean      33 days 16:25:29.123533\n",
       "std      102 days 02:19:58.373609\n",
       "min               0 days 00:00:01\n",
       "25%               0 days 00:01:20\n",
       "50%               0 days 00:04:46\n",
       "75%        1 days 22:52:59.500000\n",
       "max             875 days 13:46:48\n",
       "Name: diff, dtype: object"
      ]
     },
     "execution_count": 12,
     "metadata": {},
     "output_type": "execute_result"
    }
   ],
   "source": [
    "import datetime\n",
    "dfCount = dfCount.loc[(dfCount[\"count\"] > 1) & (dfCount[\"count\"] <= 150)]\n",
    "dfCount[\"diff\"].describe()"
   ]
  },
  {
   "cell_type": "code",
   "execution_count": null,
   "metadata": {},
   "outputs": [],
   "source": []
  }
 ],
 "metadata": {
  "kernelspec": {
   "display_name": "Python 3",
   "language": "python",
   "name": "python3"
  },
  "language_info": {
   "codemirror_mode": {
    "name": "ipython",
    "version": 3
   },
   "file_extension": ".py",
   "mimetype": "text/x-python",
   "name": "python",
   "nbconvert_exporter": "python",
   "pygments_lexer": "ipython3",
   "version": "3.7.1"
  }
 },
 "nbformat": 4,
 "nbformat_minor": 2
}
